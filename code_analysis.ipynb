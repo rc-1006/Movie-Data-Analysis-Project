{
 "cells": [
  {
   "cell_type": "markdown",
   "id": "f661cb99-5a12-4c74-ba0b-314eb9370cd2",
   "metadata": {},
   "source": [
    "# Group 52: Runhan Chen, Jinrui Fang\n",
    "# DS-GA 1001: Data Analysis Project 1"
   ]
  },
  {
   "cell_type": "code",
   "execution_count": 7,
   "id": "fa6d1a22-903b-4add-bba5-57bf15031613",
   "metadata": {},
   "outputs": [],
   "source": [
    "import pandas as pd\n",
    "import numpy as np\n",
    "df = pd.read_csv(\"../Movie_dataAnalysisProject/movieReplicationSet.csv\", sep=\",\")"
   ]
  },
  {
   "cell_type": "code",
   "execution_count": 9,
   "id": "c467b490-39ab-478c-a9ad-6649ec085513",
   "metadata": {},
   "outputs": [
    {
     "data": {
      "text/plain": [
       "(1097, 477)"
      ]
     },
     "execution_count": 9,
     "metadata": {},
     "output_type": "execute_result"
    }
   ],
   "source": [
    "df.shape"
   ]
  },
  {
   "cell_type": "code",
   "execution_count": 12,
   "id": "461d5e00-4afe-4077-90a1-bf04bf980e01",
   "metadata": {},
   "outputs": [
    {
     "data": {
      "text/html": [
       "<div>\n",
       "<style scoped>\n",
       "    .dataframe tbody tr th:only-of-type {\n",
       "        vertical-align: middle;\n",
       "    }\n",
       "\n",
       "    .dataframe tbody tr th {\n",
       "        vertical-align: top;\n",
       "    }\n",
       "\n",
       "    .dataframe thead th {\n",
       "        text-align: right;\n",
       "    }\n",
       "</style>\n",
       "<table border=\"1\" class=\"dataframe\">\n",
       "  <thead>\n",
       "    <tr style=\"text-align: right;\">\n",
       "      <th></th>\n",
       "      <th>The Life of David Gale (2003)</th>\n",
       "      <th>Wing Commander (1999)</th>\n",
       "      <th>Django Unchained (2012)</th>\n",
       "      <th>Alien (1979)</th>\n",
       "      <th>Indiana Jones and the Last Crusade (1989)</th>\n",
       "      <th>Snatch (2000)</th>\n",
       "      <th>Rambo: First Blood Part II (1985)</th>\n",
       "      <th>Fargo (1996)</th>\n",
       "      <th>Let the Right One In (2008)</th>\n",
       "      <th>Black Swan (2010)</th>\n",
       "      <th>...</th>\n",
       "      <th>When watching a movie I cheer or shout or talk or curse at the screen</th>\n",
       "      <th>When watching a movie I feel like the things on the screen are happening to me</th>\n",
       "      <th>As a movie unfolds I start to have problems keeping track of events that happened earlier</th>\n",
       "      <th>The emotions on the screen \"rub off\" on me - for instance if something sad is happening I get sad or if something frightening is happening I get scared</th>\n",
       "      <th>When watching a movie I get completely immersed in the alternative reality of the film</th>\n",
       "      <th>Movies change my position on social economic or political issues</th>\n",
       "      <th>When watching movies things get so intense that I have to stop watching</th>\n",
       "      <th>Gender identity (1 = female; 2 = male; 3 = self-described)</th>\n",
       "      <th>Are you an only child? (1: Yes; 0: No; -1: Did not respond)</th>\n",
       "      <th>Movies are best enjoyed alone (1: Yes; 0: No; -1: Did not respond)</th>\n",
       "    </tr>\n",
       "  </thead>\n",
       "  <tbody>\n",
       "    <tr>\n",
       "      <th>0</th>\n",
       "      <td>NaN</td>\n",
       "      <td>NaN</td>\n",
       "      <td>4.0</td>\n",
       "      <td>NaN</td>\n",
       "      <td>3.0</td>\n",
       "      <td>NaN</td>\n",
       "      <td>NaN</td>\n",
       "      <td>NaN</td>\n",
       "      <td>NaN</td>\n",
       "      <td>NaN</td>\n",
       "      <td>...</td>\n",
       "      <td>1.0</td>\n",
       "      <td>6.0</td>\n",
       "      <td>2.0</td>\n",
       "      <td>5.0</td>\n",
       "      <td>5.0</td>\n",
       "      <td>5.0</td>\n",
       "      <td>1.0</td>\n",
       "      <td>1.0</td>\n",
       "      <td>0</td>\n",
       "      <td>1</td>\n",
       "    </tr>\n",
       "    <tr>\n",
       "      <th>1</th>\n",
       "      <td>NaN</td>\n",
       "      <td>NaN</td>\n",
       "      <td>1.5</td>\n",
       "      <td>NaN</td>\n",
       "      <td>NaN</td>\n",
       "      <td>NaN</td>\n",
       "      <td>NaN</td>\n",
       "      <td>NaN</td>\n",
       "      <td>NaN</td>\n",
       "      <td>NaN</td>\n",
       "      <td>...</td>\n",
       "      <td>3.0</td>\n",
       "      <td>1.0</td>\n",
       "      <td>1.0</td>\n",
       "      <td>6.0</td>\n",
       "      <td>5.0</td>\n",
       "      <td>3.0</td>\n",
       "      <td>2.0</td>\n",
       "      <td>1.0</td>\n",
       "      <td>0</td>\n",
       "      <td>0</td>\n",
       "    </tr>\n",
       "    <tr>\n",
       "      <th>2</th>\n",
       "      <td>NaN</td>\n",
       "      <td>NaN</td>\n",
       "      <td>NaN</td>\n",
       "      <td>NaN</td>\n",
       "      <td>NaN</td>\n",
       "      <td>NaN</td>\n",
       "      <td>NaN</td>\n",
       "      <td>NaN</td>\n",
       "      <td>NaN</td>\n",
       "      <td>NaN</td>\n",
       "      <td>...</td>\n",
       "      <td>5.0</td>\n",
       "      <td>4.0</td>\n",
       "      <td>3.0</td>\n",
       "      <td>5.0</td>\n",
       "      <td>5.0</td>\n",
       "      <td>4.0</td>\n",
       "      <td>4.0</td>\n",
       "      <td>1.0</td>\n",
       "      <td>1</td>\n",
       "      <td>0</td>\n",
       "    </tr>\n",
       "    <tr>\n",
       "      <th>3</th>\n",
       "      <td>NaN</td>\n",
       "      <td>NaN</td>\n",
       "      <td>2.0</td>\n",
       "      <td>NaN</td>\n",
       "      <td>3.0</td>\n",
       "      <td>NaN</td>\n",
       "      <td>NaN</td>\n",
       "      <td>NaN</td>\n",
       "      <td>NaN</td>\n",
       "      <td>4.0</td>\n",
       "      <td>...</td>\n",
       "      <td>3.0</td>\n",
       "      <td>1.0</td>\n",
       "      <td>1.0</td>\n",
       "      <td>4.0</td>\n",
       "      <td>5.0</td>\n",
       "      <td>3.0</td>\n",
       "      <td>1.0</td>\n",
       "      <td>1.0</td>\n",
       "      <td>0</td>\n",
       "      <td>1</td>\n",
       "    </tr>\n",
       "    <tr>\n",
       "      <th>4</th>\n",
       "      <td>NaN</td>\n",
       "      <td>NaN</td>\n",
       "      <td>3.5</td>\n",
       "      <td>NaN</td>\n",
       "      <td>0.5</td>\n",
       "      <td>NaN</td>\n",
       "      <td>0.5</td>\n",
       "      <td>1.0</td>\n",
       "      <td>NaN</td>\n",
       "      <td>0.0</td>\n",
       "      <td>...</td>\n",
       "      <td>2.0</td>\n",
       "      <td>3.0</td>\n",
       "      <td>2.0</td>\n",
       "      <td>5.0</td>\n",
       "      <td>6.0</td>\n",
       "      <td>4.0</td>\n",
       "      <td>4.0</td>\n",
       "      <td>1.0</td>\n",
       "      <td>1</td>\n",
       "      <td>1</td>\n",
       "    </tr>\n",
       "  </tbody>\n",
       "</table>\n",
       "<p>5 rows × 477 columns</p>\n",
       "</div>"
      ],
      "text/plain": [
       "   The Life of David Gale (2003)  Wing Commander (1999)  \\\n",
       "0                            NaN                    NaN   \n",
       "1                            NaN                    NaN   \n",
       "2                            NaN                    NaN   \n",
       "3                            NaN                    NaN   \n",
       "4                            NaN                    NaN   \n",
       "\n",
       "   Django Unchained (2012)  Alien (1979)  \\\n",
       "0                      4.0           NaN   \n",
       "1                      1.5           NaN   \n",
       "2                      NaN           NaN   \n",
       "3                      2.0           NaN   \n",
       "4                      3.5           NaN   \n",
       "\n",
       "   Indiana Jones and the Last Crusade (1989)  Snatch (2000)  \\\n",
       "0                                        3.0            NaN   \n",
       "1                                        NaN            NaN   \n",
       "2                                        NaN            NaN   \n",
       "3                                        3.0            NaN   \n",
       "4                                        0.5            NaN   \n",
       "\n",
       "   Rambo: First Blood Part II (1985)  Fargo (1996)  \\\n",
       "0                                NaN           NaN   \n",
       "1                                NaN           NaN   \n",
       "2                                NaN           NaN   \n",
       "3                                NaN           NaN   \n",
       "4                                0.5           1.0   \n",
       "\n",
       "   Let the Right One In (2008)  Black Swan (2010)  ...  \\\n",
       "0                          NaN                NaN  ...   \n",
       "1                          NaN                NaN  ...   \n",
       "2                          NaN                NaN  ...   \n",
       "3                          NaN                4.0  ...   \n",
       "4                          NaN                0.0  ...   \n",
       "\n",
       "   When watching a movie I cheer or shout or talk or curse at the screen  \\\n",
       "0                                                1.0                       \n",
       "1                                                3.0                       \n",
       "2                                                5.0                       \n",
       "3                                                3.0                       \n",
       "4                                                2.0                       \n",
       "\n",
       "   When watching a movie I feel like the things on the screen are happening to me  \\\n",
       "0                                                6.0                                \n",
       "1                                                1.0                                \n",
       "2                                                4.0                                \n",
       "3                                                1.0                                \n",
       "4                                                3.0                                \n",
       "\n",
       "   As a movie unfolds I start to have problems keeping track of events that happened earlier  \\\n",
       "0                                                2.0                                           \n",
       "1                                                1.0                                           \n",
       "2                                                3.0                                           \n",
       "3                                                1.0                                           \n",
       "4                                                2.0                                           \n",
       "\n",
       "   The emotions on the screen \"rub off\" on me - for instance if something sad is happening I get sad or if something frightening is happening I get scared  \\\n",
       "0                                                5.0                                                                                                         \n",
       "1                                                6.0                                                                                                         \n",
       "2                                                5.0                                                                                                         \n",
       "3                                                4.0                                                                                                         \n",
       "4                                                5.0                                                                                                         \n",
       "\n",
       "   When watching a movie I get completely immersed in the alternative reality of the film  \\\n",
       "0                                                5.0                                        \n",
       "1                                                5.0                                        \n",
       "2                                                5.0                                        \n",
       "3                                                5.0                                        \n",
       "4                                                6.0                                        \n",
       "\n",
       "   Movies change my position on social economic or political issues  \\\n",
       "0                                                5.0                  \n",
       "1                                                3.0                  \n",
       "2                                                4.0                  \n",
       "3                                                3.0                  \n",
       "4                                                4.0                  \n",
       "\n",
       "   When watching movies things get so intense that I have to stop watching  \\\n",
       "0                                                1.0                         \n",
       "1                                                2.0                         \n",
       "2                                                4.0                         \n",
       "3                                                1.0                         \n",
       "4                                                4.0                         \n",
       "\n",
       "   Gender identity (1 = female; 2 = male; 3 = self-described)  \\\n",
       "0                                                1.0            \n",
       "1                                                1.0            \n",
       "2                                                1.0            \n",
       "3                                                1.0            \n",
       "4                                                1.0            \n",
       "\n",
       "   Are you an only child? (1: Yes; 0: No; -1: Did not respond)  \\\n",
       "0                                                  0             \n",
       "1                                                  0             \n",
       "2                                                  1             \n",
       "3                                                  0             \n",
       "4                                                  1             \n",
       "\n",
       "   Movies are best enjoyed alone (1: Yes; 0: No; -1: Did not respond)  \n",
       "0                                                  1                   \n",
       "1                                                  0                   \n",
       "2                                                  0                   \n",
       "3                                                  1                   \n",
       "4                                                  1                   \n",
       "\n",
       "[5 rows x 477 columns]"
      ]
     },
     "execution_count": 12,
     "metadata": {},
     "output_type": "execute_result"
    }
   ],
   "source": [
    "df.head()"
   ]
  },
  {
   "cell_type": "markdown",
   "id": "2799efe2-2e05-4618-84ff-4c658b5b837f",
   "metadata": {},
   "source": [
    "### 1.Are movies that are more popular (operationalized as having more ratings) rated higher than movies that\n",
    "are less popular? [Hint: You can do a median-split of popularity to determine high vs. low popularity movies]"
   ]
  },
  {
   "cell_type": "code",
   "execution_count": 40,
   "id": "31f48cb8-1d58-42dc-9499-d14118706c4e",
   "metadata": {},
   "outputs": [
    {
     "data": {
      "text/plain": [
       "The Life of David Gale (2003)                 76\n",
       "Wing Commander (1999)                         71\n",
       "Django Unchained (2012)                      453\n",
       "Alien (1979)                                 289\n",
       "Indiana Jones and the Last Crusade (1989)    463\n",
       "                                            ... \n",
       "Patton (1970)                                 61\n",
       "Anaconda (1997)                              198\n",
       "Twister (1996)                               174\n",
       "MacArthur (1977)                              61\n",
       "Look Who's Talking (1989)                    108\n",
       "Length: 400, dtype: int64"
      ]
     },
     "execution_count": 40,
     "metadata": {},
     "output_type": "execute_result"
    }
   ],
   "source": [
    "popularity = df.iloc[:,:400].count()\n",
    "popularity"
   ]
  },
  {
   "cell_type": "code",
   "execution_count": 30,
   "id": "ee602cde-8ab6-4ce3-8b15-01897db37757",
   "metadata": {},
   "outputs": [
    {
     "data": {
      "text/plain": [
       "197.5"
      ]
     },
     "execution_count": 30,
     "metadata": {},
     "output_type": "execute_result"
    }
   ],
   "source": [
    "# meadian-split of popularity to determine high/low popularity movies\n",
    "# T-test, need the variance of the two groups be same. If we do not use the median to split the groups, \n",
    "# the variance will be different. \n",
    "median_split = popularity.median()\n",
    "median_split"
   ]
  },
  {
   "cell_type": "code",
   "execution_count": 42,
   "id": "df9ad79a-07b9-47ae-a0c5-9c7f800db0c5",
   "metadata": {},
   "outputs": [
    {
     "data": {
      "text/plain": [
       "The Life of David Gale (2003)                2.151316\n",
       "Wing Commander (1999)                        2.021127\n",
       "Django Unchained (2012)                      3.153422\n",
       "Alien (1979)                                 2.707612\n",
       "Indiana Jones and the Last Crusade (1989)    2.778618\n",
       "                                               ...   \n",
       "Patton (1970)                                2.278689\n",
       "Anaconda (1997)                              2.295455\n",
       "Twister (1996)                               2.402299\n",
       "MacArthur (1977)                             2.114754\n",
       "Look Who's Talking (1989)                    2.337963\n",
       "Length: 400, dtype: float64"
      ]
     },
     "execution_count": 42,
     "metadata": {},
     "output_type": "execute_result"
    }
   ],
   "source": [
    "rating_mean = df.iloc[:,:400].mean()\n",
    "rating_mean"
   ]
  },
  {
   "cell_type": "code",
   "execution_count": 52,
   "id": "0043d83e-ebe3-4b19-8bd2-d699d0ed56e6",
   "metadata": {},
   "outputs": [
    {
     "data": {
      "text/html": [
       "<div>\n",
       "<style scoped>\n",
       "    .dataframe tbody tr th:only-of-type {\n",
       "        vertical-align: middle;\n",
       "    }\n",
       "\n",
       "    .dataframe tbody tr th {\n",
       "        vertical-align: top;\n",
       "    }\n",
       "\n",
       "    .dataframe thead th {\n",
       "        text-align: right;\n",
       "    }\n",
       "</style>\n",
       "<table border=\"1\" class=\"dataframe\">\n",
       "  <thead>\n",
       "    <tr style=\"text-align: right;\">\n",
       "      <th></th>\n",
       "      <th>index</th>\n",
       "      <th>Popularity</th>\n",
       "      <th>AverageRating</th>\n",
       "    </tr>\n",
       "  </thead>\n",
       "  <tbody>\n",
       "    <tr>\n",
       "      <th>0</th>\n",
       "      <td>The Life of David Gale (2003)</td>\n",
       "      <td>76</td>\n",
       "      <td>2.151316</td>\n",
       "    </tr>\n",
       "    <tr>\n",
       "      <th>1</th>\n",
       "      <td>Wing Commander (1999)</td>\n",
       "      <td>71</td>\n",
       "      <td>2.021127</td>\n",
       "    </tr>\n",
       "    <tr>\n",
       "      <th>2</th>\n",
       "      <td>Django Unchained (2012)</td>\n",
       "      <td>453</td>\n",
       "      <td>3.153422</td>\n",
       "    </tr>\n",
       "    <tr>\n",
       "      <th>3</th>\n",
       "      <td>Alien (1979)</td>\n",
       "      <td>289</td>\n",
       "      <td>2.707612</td>\n",
       "    </tr>\n",
       "    <tr>\n",
       "      <th>4</th>\n",
       "      <td>Indiana Jones and the Last Crusade (1989)</td>\n",
       "      <td>463</td>\n",
       "      <td>2.778618</td>\n",
       "    </tr>\n",
       "  </tbody>\n",
       "</table>\n",
       "</div>"
      ],
      "text/plain": [
       "                                       index  Popularity  AverageRating\n",
       "0              The Life of David Gale (2003)          76       2.151316\n",
       "1                      Wing Commander (1999)          71       2.021127\n",
       "2                    Django Unchained (2012)         453       3.153422\n",
       "3                               Alien (1979)         289       2.707612\n",
       "4  Indiana Jones and the Last Crusade (1989)         463       2.778618"
      ]
     },
     "execution_count": 52,
     "metadata": {},
     "output_type": "execute_result"
    }
   ],
   "source": [
    "# combine two df\n",
    "movie_stats = pd.DataFrame({\n",
    "    'Popularity': popularity,\n",
    "    'AverageRating': rating_mean\n",
    "}).reset_index()\n",
    "movie_stats.head()"
   ]
  },
  {
   "cell_type": "code",
   "execution_count": 53,
   "id": "3d0f4bf8-c57b-4de8-87ce-7e479b7dba16",
   "metadata": {},
   "outputs": [
    {
     "data": {
      "text/plain": [
       "2      3.153422\n",
       "3      2.707612\n",
       "4      2.778618\n",
       "7      2.899606\n",
       "9      2.911565\n",
       "         ...   \n",
       "390    2.914062\n",
       "392    2.559045\n",
       "393    2.618952\n",
       "394    3.272459\n",
       "396    2.295455\n",
       "Name: AverageRating, Length: 200, dtype: float64"
      ]
     },
     "execution_count": 53,
     "metadata": {},
     "output_type": "execute_result"
    }
   ],
   "source": [
    "# Use the median-split to find the average rating for high popularity movie\n",
    "high = movie_stats[movie_stats['Popularity'] > median_split]['AverageRating']\n",
    "high"
   ]
  },
  {
   "cell_type": "code",
   "execution_count": 54,
   "id": "55f3e8aa-5a91-41a0-bfdc-0ed624947c71",
   "metadata": {},
   "outputs": [
    {
     "data": {
      "text/plain": [
       "0      2.151316\n",
       "1      2.021127\n",
       "5      2.597656\n",
       "6      2.365385\n",
       "8      2.496350\n",
       "         ...   \n",
       "391    3.101036\n",
       "395    2.278689\n",
       "397    2.402299\n",
       "398    2.114754\n",
       "399    2.337963\n",
       "Name: AverageRating, Length: 200, dtype: float64"
      ]
     },
     "execution_count": 54,
     "metadata": {},
     "output_type": "execute_result"
    }
   ],
   "source": [
    "# Use the median-split to find the average rating for low popularity movie\n",
    "low = movie_stats[movie_stats['Popularity'] < median_split]['AverageRating']\n",
    "low"
   ]
  },
  {
   "cell_type": "code",
   "execution_count": 58,
   "id": "fb33ae82-a354-43d8-a3b9-db3da6b00877",
   "metadata": {},
   "outputs": [
    {
     "data": {
      "text/plain": [
       "(17.7560492698737, 2.2696530276564846e-52)"
      ]
     },
     "execution_count": 58,
     "metadata": {},
     "output_type": "execute_result"
    }
   ],
   "source": [
    "from scipy import stats\n",
    "t, p = stats.ttest_ind(high, low) \n",
    "# T-Test, and found P-value < 0.005 (alpha = 0.005 here), \n",
    "# it is statistically significant ==> we have reason to conclude that the average rating in two groups has the difference,\n",
    "# (the observed difference in mean are not due to sampling error)\n",
    "t, p"
   ]
  },
  {
   "cell_type": "code",
   "execution_count": 78,
   "id": "9e1ef990-368c-446e-96d6-3b165838f823",
   "metadata": {},
   "outputs": [
    {
     "data": {
      "text/plain": [
       "0.4673930830804105"
      ]
     },
     "execution_count": 78,
     "metadata": {},
     "output_type": "execute_result"
    }
   ],
   "source": [
    "high.mean() - low.mean() \n",
    "# Hence, movies that are more popular \n",
    "# (operationalized as having more ratings) are rated higher than movies that are less popular"
   ]
  },
  {
   "cell_type": "code",
   "execution_count": 76,
   "id": "de1a3da8-52de-471d-ab66-0cbe38fcc2b1",
   "metadata": {},
   "outputs": [
    {
     "data": {
      "text/html": [
       "<div>\n",
       "<style scoped>\n",
       "    .dataframe tbody tr th:only-of-type {\n",
       "        vertical-align: middle;\n",
       "    }\n",
       "\n",
       "    .dataframe tbody tr th {\n",
       "        vertical-align: top;\n",
       "    }\n",
       "\n",
       "    .dataframe thead th {\n",
       "        text-align: right;\n",
       "    }\n",
       "</style>\n",
       "<table border=\"1\" class=\"dataframe\">\n",
       "  <thead>\n",
       "    <tr style=\"text-align: right;\">\n",
       "      <th></th>\n",
       "      <th>index</th>\n",
       "      <th>Popularity</th>\n",
       "      <th>AverageRating</th>\n",
       "      <th>label</th>\n",
       "    </tr>\n",
       "  </thead>\n",
       "  <tbody>\n",
       "    <tr>\n",
       "      <th>0</th>\n",
       "      <td>The Life of David Gale (2003)</td>\n",
       "      <td>76</td>\n",
       "      <td>2.151316</td>\n",
       "      <td>Low</td>\n",
       "    </tr>\n",
       "    <tr>\n",
       "      <th>1</th>\n",
       "      <td>Wing Commander (1999)</td>\n",
       "      <td>71</td>\n",
       "      <td>2.021127</td>\n",
       "      <td>Low</td>\n",
       "    </tr>\n",
       "    <tr>\n",
       "      <th>2</th>\n",
       "      <td>Django Unchained (2012)</td>\n",
       "      <td>453</td>\n",
       "      <td>3.153422</td>\n",
       "      <td>High</td>\n",
       "    </tr>\n",
       "    <tr>\n",
       "      <th>3</th>\n",
       "      <td>Alien (1979)</td>\n",
       "      <td>289</td>\n",
       "      <td>2.707612</td>\n",
       "      <td>High</td>\n",
       "    </tr>\n",
       "    <tr>\n",
       "      <th>4</th>\n",
       "      <td>Indiana Jones and the Last Crusade (1989)</td>\n",
       "      <td>463</td>\n",
       "      <td>2.778618</td>\n",
       "      <td>High</td>\n",
       "    </tr>\n",
       "    <tr>\n",
       "      <th>...</th>\n",
       "      <td>...</td>\n",
       "      <td>...</td>\n",
       "      <td>...</td>\n",
       "      <td>...</td>\n",
       "    </tr>\n",
       "    <tr>\n",
       "      <th>395</th>\n",
       "      <td>Patton (1970)</td>\n",
       "      <td>61</td>\n",
       "      <td>2.278689</td>\n",
       "      <td>Low</td>\n",
       "    </tr>\n",
       "    <tr>\n",
       "      <th>396</th>\n",
       "      <td>Anaconda (1997)</td>\n",
       "      <td>198</td>\n",
       "      <td>2.295455</td>\n",
       "      <td>High</td>\n",
       "    </tr>\n",
       "    <tr>\n",
       "      <th>397</th>\n",
       "      <td>Twister (1996)</td>\n",
       "      <td>174</td>\n",
       "      <td>2.402299</td>\n",
       "      <td>Low</td>\n",
       "    </tr>\n",
       "    <tr>\n",
       "      <th>398</th>\n",
       "      <td>MacArthur (1977)</td>\n",
       "      <td>61</td>\n",
       "      <td>2.114754</td>\n",
       "      <td>Low</td>\n",
       "    </tr>\n",
       "    <tr>\n",
       "      <th>399</th>\n",
       "      <td>Look Who's Talking (1989)</td>\n",
       "      <td>108</td>\n",
       "      <td>2.337963</td>\n",
       "      <td>Low</td>\n",
       "    </tr>\n",
       "  </tbody>\n",
       "</table>\n",
       "<p>400 rows × 4 columns</p>\n",
       "</div>"
      ],
      "text/plain": [
       "                                         index  Popularity  AverageRating  \\\n",
       "0                The Life of David Gale (2003)          76       2.151316   \n",
       "1                        Wing Commander (1999)          71       2.021127   \n",
       "2                      Django Unchained (2012)         453       3.153422   \n",
       "3                                 Alien (1979)         289       2.707612   \n",
       "4    Indiana Jones and the Last Crusade (1989)         463       2.778618   \n",
       "..                                         ...         ...            ...   \n",
       "395                              Patton (1970)          61       2.278689   \n",
       "396                            Anaconda (1997)         198       2.295455   \n",
       "397                             Twister (1996)         174       2.402299   \n",
       "398                           MacArthur (1977)          61       2.114754   \n",
       "399                  Look Who's Talking (1989)         108       2.337963   \n",
       "\n",
       "    label  \n",
       "0     Low  \n",
       "1     Low  \n",
       "2    High  \n",
       "3    High  \n",
       "4    High  \n",
       "..    ...  \n",
       "395   Low  \n",
       "396  High  \n",
       "397   Low  \n",
       "398   Low  \n",
       "399   Low  \n",
       "\n",
       "[400 rows x 4 columns]"
      ]
     },
     "execution_count": 76,
     "metadata": {},
     "output_type": "execute_result"
    }
   ],
   "source": [
    "import seaborn as sns\n",
    "import matplotlib.pyplot as plt\n",
    "movie_stats['label'] = np.where(movie_stats['Popularity'] > median_split, 'High', 'Low')\n",
    "movie_stats"
   ]
  },
  {
   "cell_type": "code",
   "execution_count": 77,
   "id": "3ad9f985-a364-4114-9570-4b644d561b15",
   "metadata": {},
   "outputs": [
    {
     "data": {
      "image/png": "[encoded data removed]",
      "text/plain": [
       "<Figure size 640x480 with 1 Axes>"
      ]
     },
     "metadata": {},
     "output_type": "display_data"
    }
   ],
   "source": [
    "plt.figure()\n",
    "sns.boxplot(x='label', y='AverageRating', data = movie_stats)\n",
    "plt.title(\"Comparsion of Average Ratings between High and low Popularity Movies\")\n",
    "plt.show()"
   ]
  },
  {
   "cell_type": "markdown",
   "id": "8f0cd3e2-644d-4f48-a614-9cb1279a0c73",
   "metadata": {},
   "source": [
    "### 2) Are movies that are newer rated differently than movies that are older? [Hint: Do a median split of year of\n",
    "release to contrast movies in terms of whether they are old or new]"
   ]
  },
  {
   "cell_type": "code",
   "execution_count": 100,
   "id": "1498196c-38b6-4351-bfb4-bd0c6191a787",
   "metadata": {},
   "outputs": [
    {
     "data": {
      "text/html": [
       "<div>\n",
       "<style scoped>\n",
       "    .dataframe tbody tr th:only-of-type {\n",
       "        vertical-align: middle;\n",
       "    }\n",
       "\n",
       "    .dataframe tbody tr th {\n",
       "        vertical-align: top;\n",
       "    }\n",
       "\n",
       "    .dataframe thead th {\n",
       "        text-align: right;\n",
       "    }\n",
       "</style>\n",
       "<table border=\"1\" class=\"dataframe\">\n",
       "  <thead>\n",
       "    <tr style=\"text-align: right;\">\n",
       "      <th></th>\n",
       "      <th>index</th>\n",
       "      <th>AverageRating</th>\n",
       "      <th>year</th>\n",
       "    </tr>\n",
       "  </thead>\n",
       "  <tbody>\n",
       "    <tr>\n",
       "      <th>0</th>\n",
       "      <td>The Life of David Gale (2003)</td>\n",
       "      <td>2.151316</td>\n",
       "      <td>2003</td>\n",
       "    </tr>\n",
       "    <tr>\n",
       "      <th>1</th>\n",
       "      <td>Wing Commander (1999)</td>\n",
       "      <td>2.021127</td>\n",
       "      <td>1999</td>\n",
       "    </tr>\n",
       "    <tr>\n",
       "      <th>2</th>\n",
       "      <td>Django Unchained (2012)</td>\n",
       "      <td>3.153422</td>\n",
       "      <td>2012</td>\n",
       "    </tr>\n",
       "    <tr>\n",
       "      <th>3</th>\n",
       "      <td>Alien (1979)</td>\n",
       "      <td>2.707612</td>\n",
       "      <td>1979</td>\n",
       "    </tr>\n",
       "    <tr>\n",
       "      <th>4</th>\n",
       "      <td>Indiana Jones and the Last Crusade (1989)</td>\n",
       "      <td>2.778618</td>\n",
       "      <td>1989</td>\n",
       "    </tr>\n",
       "    <tr>\n",
       "      <th>...</th>\n",
       "      <td>...</td>\n",
       "      <td>...</td>\n",
       "      <td>...</td>\n",
       "    </tr>\n",
       "    <tr>\n",
       "      <th>395</th>\n",
       "      <td>Patton (1970)</td>\n",
       "      <td>2.278689</td>\n",
       "      <td>1970</td>\n",
       "    </tr>\n",
       "    <tr>\n",
       "      <th>396</th>\n",
       "      <td>Anaconda (1997)</td>\n",
       "      <td>2.295455</td>\n",
       "      <td>1997</td>\n",
       "    </tr>\n",
       "    <tr>\n",
       "      <th>397</th>\n",
       "      <td>Twister (1996)</td>\n",
       "      <td>2.402299</td>\n",
       "      <td>1996</td>\n",
       "    </tr>\n",
       "    <tr>\n",
       "      <th>398</th>\n",
       "      <td>MacArthur (1977)</td>\n",
       "      <td>2.114754</td>\n",
       "      <td>1977</td>\n",
       "    </tr>\n",
       "    <tr>\n",
       "      <th>399</th>\n",
       "      <td>Look Who's Talking (1989)</td>\n",
       "      <td>2.337963</td>\n",
       "      <td>1989</td>\n",
       "    </tr>\n",
       "  </tbody>\n",
       "</table>\n",
       "<p>400 rows × 3 columns</p>\n",
       "</div>"
      ],
      "text/plain": [
       "                                         index  AverageRating  year\n",
       "0                The Life of David Gale (2003)       2.151316  2003\n",
       "1                        Wing Commander (1999)       2.021127  1999\n",
       "2                      Django Unchained (2012)       3.153422  2012\n",
       "3                                 Alien (1979)       2.707612  1979\n",
       "4    Indiana Jones and the Last Crusade (1989)       2.778618  1989\n",
       "..                                         ...            ...   ...\n",
       "395                              Patton (1970)       2.278689  1970\n",
       "396                            Anaconda (1997)       2.295455  1997\n",
       "397                             Twister (1996)       2.402299  1996\n",
       "398                           MacArthur (1977)       2.114754  1977\n",
       "399                  Look Who's Talking (1989)       2.337963  1989\n",
       "\n",
       "[400 rows x 3 columns]"
      ]
     },
     "execution_count": 100,
     "metadata": {},
     "output_type": "execute_result"
    }
   ],
   "source": [
    "# extract the year for each movie\n",
    "## use str.slice to extract value from the string, and use astype to convert the data type\n",
    "movies_year = pd.DataFrame({'AverageRating':rating_mean}).reset_index()\n",
    "movies_year['year']=movies_year['index'].str.slice(-5, -1).astype(int)\n",
    "movies_year"
   ]
  },
  {
   "cell_type": "code",
   "execution_count": 110,
   "id": "ebbf90c8-4bc2-4f9d-a93b-1d0fd1dfc8c1",
   "metadata": {},
   "outputs": [
    {
     "data": {
      "text/html": [
       "<div>\n",
       "<style scoped>\n",
       "    .dataframe tbody tr th:only-of-type {\n",
       "        vertical-align: middle;\n",
       "    }\n",
       "\n",
       "    .dataframe tbody tr th {\n",
       "        vertical-align: top;\n",
       "    }\n",
       "\n",
       "    .dataframe thead th {\n",
       "        text-align: right;\n",
       "    }\n",
       "</style>\n",
       "<table border=\"1\" class=\"dataframe\">\n",
       "  <thead>\n",
       "    <tr style=\"text-align: right;\">\n",
       "      <th></th>\n",
       "      <th>index</th>\n",
       "      <th>AverageRating</th>\n",
       "      <th>year</th>\n",
       "      <th>label</th>\n",
       "    </tr>\n",
       "  </thead>\n",
       "  <tbody>\n",
       "    <tr>\n",
       "      <th>0</th>\n",
       "      <td>The Life of David Gale (2003)</td>\n",
       "      <td>2.151316</td>\n",
       "      <td>2003</td>\n",
       "      <td>New</td>\n",
       "    </tr>\n",
       "    <tr>\n",
       "      <th>1</th>\n",
       "      <td>Wing Commander (1999)</td>\n",
       "      <td>2.021127</td>\n",
       "      <td>1999</td>\n",
       "      <td>Old</td>\n",
       "    </tr>\n",
       "    <tr>\n",
       "      <th>2</th>\n",
       "      <td>Django Unchained (2012)</td>\n",
       "      <td>3.153422</td>\n",
       "      <td>2012</td>\n",
       "      <td>New</td>\n",
       "    </tr>\n",
       "    <tr>\n",
       "      <th>3</th>\n",
       "      <td>Alien (1979)</td>\n",
       "      <td>2.707612</td>\n",
       "      <td>1979</td>\n",
       "      <td>Old</td>\n",
       "    </tr>\n",
       "    <tr>\n",
       "      <th>4</th>\n",
       "      <td>Indiana Jones and the Last Crusade (1989)</td>\n",
       "      <td>2.778618</td>\n",
       "      <td>1989</td>\n",
       "      <td>Old</td>\n",
       "    </tr>\n",
       "    <tr>\n",
       "      <th>...</th>\n",
       "      <td>...</td>\n",
       "      <td>...</td>\n",
       "      <td>...</td>\n",
       "      <td>...</td>\n",
       "    </tr>\n",
       "    <tr>\n",
       "      <th>395</th>\n",
       "      <td>Patton (1970)</td>\n",
       "      <td>2.278689</td>\n",
       "      <td>1970</td>\n",
       "      <td>Old</td>\n",
       "    </tr>\n",
       "    <tr>\n",
       "      <th>396</th>\n",
       "      <td>Anaconda (1997)</td>\n",
       "      <td>2.295455</td>\n",
       "      <td>1997</td>\n",
       "      <td>Old</td>\n",
       "    </tr>\n",
       "    <tr>\n",
       "      <th>397</th>\n",
       "      <td>Twister (1996)</td>\n",
       "      <td>2.402299</td>\n",
       "      <td>1996</td>\n",
       "      <td>Old</td>\n",
       "    </tr>\n",
       "    <tr>\n",
       "      <th>398</th>\n",
       "      <td>MacArthur (1977)</td>\n",
       "      <td>2.114754</td>\n",
       "      <td>1977</td>\n",
       "      <td>Old</td>\n",
       "    </tr>\n",
       "    <tr>\n",
       "      <th>399</th>\n",
       "      <td>Look Who's Talking (1989)</td>\n",
       "      <td>2.337963</td>\n",
       "      <td>1989</td>\n",
       "      <td>Old</td>\n",
       "    </tr>\n",
       "  </tbody>\n",
       "</table>\n",
       "<p>400 rows × 4 columns</p>\n",
       "</div>"
      ],
      "text/plain": [
       "                                         index  AverageRating  year label\n",
       "0                The Life of David Gale (2003)       2.151316  2003   New\n",
       "1                        Wing Commander (1999)       2.021127  1999   Old\n",
       "2                      Django Unchained (2012)       3.153422  2012   New\n",
       "3                                 Alien (1979)       2.707612  1979   Old\n",
       "4    Indiana Jones and the Last Crusade (1989)       2.778618  1989   Old\n",
       "..                                         ...            ...   ...   ...\n",
       "395                              Patton (1970)       2.278689  1970   Old\n",
       "396                            Anaconda (1997)       2.295455  1997   Old\n",
       "397                             Twister (1996)       2.402299  1996   Old\n",
       "398                           MacArthur (1977)       2.114754  1977   Old\n",
       "399                  Look Who's Talking (1989)       2.337963  1989   Old\n",
       "\n",
       "[400 rows x 4 columns]"
      ]
     },
     "execution_count": 110,
     "metadata": {},
     "output_type": "execute_result"
    }
   ],
   "source": [
    "# use the median to split the movie into new and old \n",
    "year_median = movies_year['year'].median()\n",
    "movies_year['label'] = np.where(movies_year['year'] > year_median, 'New', 'Old')\n",
    "movies_year"
   ]
  },
  {
   "cell_type": "code",
   "execution_count": 105,
   "id": "6c55d8ba-578b-4442-a723-2f6bfbcbfb94",
   "metadata": {},
   "outputs": [
    {
     "data": {
      "image/png": "[encoded data removed]",
      "text/plain": [
       "<Figure size 640x480 with 1 Axes>"
      ]
     },
     "metadata": {},
     "output_type": "display_data"
    }
   ],
   "source": [
    "plt.figure()\n",
    "sns.boxplot(x='label', y='AverageRating', data = movies_year)\n",
    "plt.title(\"Comparsion of Average Ratings between New and Old Movies\")\n",
    "plt.show()"
   ]
  },
  {
   "cell_type": "code",
   "execution_count": 117,
   "id": "21fd6787-b238-4032-8e42-cbde6e98df01",
   "metadata": {},
   "outputs": [
    {
     "data": {
      "text/plain": [
       "0      2.151316\n",
       "2      3.153422\n",
       "5      2.597656\n",
       "8      2.496350\n",
       "9      2.911565\n",
       "         ...   \n",
       "387    3.299754\n",
       "388    2.198413\n",
       "389    2.250000\n",
       "390    2.914062\n",
       "394    3.272459\n",
       "Name: AverageRating, Length: 174, dtype: float64"
      ]
     },
     "execution_count": 117,
     "metadata": {},
     "output_type": "execute_result"
    }
   ],
   "source": [
    "new = movies_year[movies_year['label'] == 'New']['AverageRating']\n",
    "new"
   ]
  },
  {
   "cell_type": "code",
   "execution_count": 121,
   "id": "075d2450-62f3-48fe-8ff1-fa92f3fae062",
   "metadata": {},
   "outputs": [
    {
     "data": {
      "text/plain": [
       "1      2.021127\n",
       "3      2.707612\n",
       "4      2.778618\n",
       "6      2.365385\n",
       "7      2.899606\n",
       "         ...   \n",
       "395    2.278689\n",
       "396    2.295455\n",
       "397    2.402299\n",
       "398    2.114754\n",
       "399    2.337963\n",
       "Name: AverageRating, Length: 226, dtype: float64"
      ]
     },
     "execution_count": 121,
     "metadata": {},
     "output_type": "execute_result"
    }
   ],
   "source": [
    "old = movies_year[movies_year['label'] == 'Old']['AverageRating']\n",
    "old"
   ]
  },
  {
   "cell_type": "code",
   "execution_count": 124,
   "id": "b32c2e2b-322e-4e06-8a62-c92ad4fcba28",
   "metadata": {},
   "outputs": [
    {
     "data": {
      "text/plain": [
       "(1.1201895621529818, 0.26336409999036803)"
      ]
     },
     "execution_count": 124,
     "metadata": {},
     "output_type": "execute_result"
    }
   ],
   "source": [
    "# welch's test ==> set equal_var to false, usually used when two sample size are not equal\n",
    "t, p = stats.ttest_ind(new, old, equal_var =False) \n",
    "# P value is larger than the alpha(0.005), it is not statistically significant ==> observed difference due to sampling error\n",
    "t, p "
   ]
  },
  {
   "cell_type": "code",
   "execution_count": 125,
   "id": "c77f445b-2e2e-4cc7-82c7-e76f7671f7ae",
   "metadata": {},
   "outputs": [],
   "source": [
    "# After we split the data by using the median, we found the p value is not statistically significant,\n",
    "# there is no difference between the movies that are newer and movies that are older"
   ]
  },
  {
   "cell_type": "markdown",
   "id": "5ad06d15-a76b-4f90-8e4b-694112dda3ec",
   "metadata": {},
   "source": [
    "### 3. Is enjoyment of ‘Shrek (2001)’ gendered, i.e. do male and female viewers rate it differently?"
   ]
  },
  {
   "cell_type": "code",
   "execution_count": 418,
   "id": "15957c28-7681-4dc9-8390-ee98879c2a00",
   "metadata": {},
   "outputs": [
    {
     "data": {
      "text/plain": [
       "1.0    807\n",
       "2.0    260\n",
       "3.0      6\n",
       "Name: Gender, dtype: int64"
      ]
     },
     "execution_count": 418,
     "metadata": {},
     "output_type": "execute_result"
    }
   ],
   "source": [
    "# extract data to have two columns: Gender, and Shrek\n",
    "gender_col = df.columns[474]\n",
    "movie_gender = df[[gender_col, 'Shrek (2001)']].rename(columns={gender_col: 'Gender', 'Shrek (2001)' : 'Shrek'})\n",
    "movie_gender['Gender'].value_counts()"
   ]
  },
  {
   "cell_type": "code",
   "execution_count": 419,
   "id": "023357fd-5ea8-4197-85ea-88af9259a899",
   "metadata": {},
   "outputs": [
    {
     "name": "stdout",
     "output_type": "stream",
     "text": [
      "Welch’s t-statistic: 1.1558907155973421\n",
      "p-value: 0.24834907946281018\n"
     ]
    }
   ],
   "source": [
    "#  Gender identity (1 = female, 2 = male, 3 = self-described)\n",
    "# in order to cut down false positives, we decide to compare female and male's rating.\n",
    "female_ratings_shrek = movie_gender[movie_gender['Gender'] == 1]['Shrek'].dropna()\n",
    "male_ratings_shrek = movie_gender[movie_gender['Gender'] == 2]['Shrek'].dropna()\n",
    "t_statistic, p_value = stats.ttest_ind(female_ratings_shrek, male_ratings_shrek, equal_var=False)\n",
    "print(\"Welch’s t-statistic:\", t_statistic)\n",
    "print(\"p-value:\", p_value)"
   ]
  },
  {
   "cell_type": "code",
   "execution_count": null,
   "id": "7f168f9f-a29e-46a6-a930-61e24bc86bdc",
   "metadata": {},
   "outputs": [],
   "source": []
  },
  {
   "cell_type": "markdown",
   "id": "ac70c0b1-5769-4417-8767-a5ea7ad1d3c6",
   "metadata": {},
   "source": [
    "### 4. What proportion of movies are rated differently by male and female viewers?"
   ]
  },
  {
   "cell_type": "code",
   "execution_count": 420,
   "id": "d73994ae-120a-4b10-b436-86711d4e4fdc",
   "metadata": {},
   "outputs": [],
   "source": [
    "# Filter the dataset for male and female participants\n",
    "male_ratings = df[df[gender_col] == 2].iloc[:, :400]\n",
    "female_ratings = df[df[gender_col] == 1].iloc[:, :400]"
   ]
  },
  {
   "cell_type": "code",
   "execution_count": 421,
   "id": "b489d702-7ec9-45f3-bad5-8bf3623ad7bd",
   "metadata": {},
   "outputs": [
    {
     "name": "stdout",
     "output_type": "stream",
     "text": [
      "Proportion of movies rated differently by male and female viewers: 0.1125\n",
      "45\n"
     ]
    }
   ],
   "source": [
    "# Initialize a counter for movies with significantly different ratings\n",
    "count_significantly_different = 0\n",
    "\n",
    "# Conduct Welch's t-tests for each movie\n",
    "for movie in male_ratings.columns:\n",
    "    t_stat, p_value = stats.ttest_ind(male_ratings[movie], female_ratings[movie], equal_var=False, nan_policy='omit')\n",
    "    if p_value < 0.005:\n",
    "        count_significantly_different += 1\n",
    "\n",
    "# Calculate the proportion of movies rated differently\n",
    "proportion_different = count_significantly_different / 400\n",
    "\n",
    "print(\"Proportion of movies rated differently by male and female viewers:\", proportion_different)\n",
    "print(count_significantly_different)"
   ]
  },
  {
   "cell_type": "code",
   "execution_count": 420,
   "id": "aa022944-211f-459e-bbab-1705fcfbcaab",
   "metadata": {},
   "outputs": [],
   "source": []
  },
  {
   "cell_type": "markdown",
   "id": "27ce3153-b92c-4b54-87b7-a3734725d8fd",
   "metadata": {},
   "source": [
    "### 5.Do people who are only children enjoy ‘The Lion King (1994)’ more than people with siblings?"
   ]
  },
  {
   "cell_type": "code",
   "execution_count": 181,
   "id": "0b4343db-a2cd-4401-ba92-d699af979267",
   "metadata": {},
   "outputs": [],
   "source": [
    "movies_only_child = df[df['Are you an only child? (1: Yes; 0: No; -1: Did not respond)'] == 1]['The Lion King (1994)']\n",
    "movies_siblings = df[df['Are you an only child? (1: Yes; 0: No; -1: Did not respond)'] == 0]['The Lion King (1994)']"
   ]
  },
  {
   "cell_type": "code",
   "execution_count": 182,
   "id": "e35a548a-d051-4c10-a56d-6247f4f250ba",
   "metadata": {},
   "outputs": [
    {
     "data": {
      "text/plain": [
       "(-1.884028409511613, 0.06102886373552747)"
      ]
     },
     "execution_count": 182,
     "metadata": {},
     "output_type": "execute_result"
    }
   ],
   "source": [
    "t, p = stats.ttest_ind(movies_only_child.dropna(), movies_siblings.dropna(), equal_var =False)\n",
    "t, p"
   ]
  },
  {
   "cell_type": "code",
   "execution_count": 147,
   "id": "3224ce86-177f-41af-bf31-e404a7105206",
   "metadata": {},
   "outputs": [
    {
     "data": {
      "text/plain": [
       "-0.1342766436813001"
      ]
     },
     "execution_count": 147,
     "metadata": {},
     "output_type": "execute_result"
    }
   ],
   "source": [
    "movies_only_child.mean() - movies_siblings.mean() \n",
    "# it is not statistically significant, because p-value is larger than alpha which is 0.005"
   ]
  },
  {
   "cell_type": "markdown",
   "id": "abd3a0f4-13d9-48c5-bdd5-db5bac15936d",
   "metadata": {},
   "source": [
    "### 6.What proportion of movies exhibit an “only child effect”, i.e. are rated different by viewers with siblings vs. those without?"
   ]
  },
  {
   "cell_type": "code",
   "execution_count": 416,
   "id": "1055d76c-39fa-4bc3-9e12-6893bc385fab",
   "metadata": {},
   "outputs": [
    {
     "name": "stdout",
     "output_type": "stream",
     "text": [
      "Billy Madison (1995)\n",
      "The Blue Lagoon (1980)\n",
      "Happy Gilmore (1996)\n",
      "Star Wars: Episode VI - The Return of the Jedi (1983)\n",
      "FeardotCom (2002)\n",
      "Captain America: Civil War (2016)\n"
     ]
    },
    {
     "data": {
      "text/plain": [
       "(6, 0.015)"
      ]
     },
     "execution_count": 416,
     "metadata": {},
     "output_type": "execute_result"
    }
   ],
   "source": [
    "significant_difference = 0\n",
    "for movie in df.columns[:400]:\n",
    "    movies_only_child = df[df['Are you an only child? (1: Yes; 0: No; -1: Did not respond)'] == 1][movie]\n",
    "    movies_siblings = df[df['Are you an only child? (1: Yes; 0: No; -1: Did not respond)'] == 0][movie]\n",
    "    # Welch's test to find if there is the statistically significant difference\n",
    "    t, p = stats.ttest_ind(movies_only_child.dropna(), movies_siblings.dropna(), equal_var =False)\n",
    "    if p < 0.005:\n",
    "        print(movie)\n",
    "        significant_difference += 1\n",
    "proportion = significant_difference / 400 \n",
    "significant_difference, proportion "
   ]
  },
  {
   "cell_type": "markdown",
   "id": "83607f15-a9ca-48e9-803e-0be25ff2c3e7",
   "metadata": {},
   "source": [
    "### 7.Do people who like to watch movies socially enjoy ‘The Wolf of Wall Street (2013)’ more than those who prefer to watch them alone?"
   ]
  },
  {
   "cell_type": "code",
   "execution_count": 195,
   "id": "2999a491-676f-4290-b5b9-adfcbf90f9b7",
   "metadata": {},
   "outputs": [],
   "source": [
    "movies_social = df[df['Movies are best enjoyed alone (1: Yes; 0: No; -1: Did not respond)'] == 0]['The Wolf of Wall Street (2013)']\n",
    "movies_alone = df[df['Movies are best enjoyed alone (1: Yes; 0: No; -1: Did not respond)'] == 1]['The Wolf of Wall Street (2013)']"
   ]
  },
  {
   "cell_type": "code",
   "execution_count": 199,
   "id": "581a19eb-2da2-4def-ab0c-9930218ee5f1",
   "metadata": {},
   "outputs": [
    {
     "data": {
      "text/plain": [
       "(-1.5513309472217705, 0.12139103950020742)"
      ]
     },
     "execution_count": 199,
     "metadata": {},
     "output_type": "execute_result"
    }
   ],
   "source": [
    "t, p = stats.ttest_ind(movies_social.dropna(), movies_alone.dropna(), equal_var =False)\n",
    "t, p"
   ]
  },
  {
   "cell_type": "code",
   "execution_count": 202,
   "id": "b76a846d-8d3b-40d2-92df-640bcb113444",
   "metadata": {},
   "outputs": [
    {
     "data": {
      "text/plain": [
       "((462,), (610,))"
      ]
     },
     "execution_count": 202,
     "metadata": {},
     "output_type": "execute_result"
    }
   ],
   "source": [
    "movies_social.shape, movies_alone.shape"
   ]
  },
  {
   "cell_type": "markdown",
   "id": "e7f7f99b-6b4a-4651-a8e8-11fd366f7904",
   "metadata": {},
   "source": [
    "### 8. What proportion of movies exhibit such a “social watching” effect?"
   ]
  },
  {
   "cell_type": "code",
   "execution_count": 415,
   "id": "72e8f084-9548-414b-b7d6-1e1c969da7fb",
   "metadata": {},
   "outputs": [
    {
     "name": "stdout",
     "output_type": "stream",
     "text": [
      "The Silence of the Lambs (1991)\n",
      "North (1994)\n",
      "Shrek 2 (2004)\n",
      "Ghostbusters (2016)\n",
      "Spider-Man (2002)\n",
      "Donnie Darko (2001)\n"
     ]
    },
    {
     "data": {
      "text/plain": [
       "(6, 0.015)"
      ]
     },
     "execution_count": 415,
     "metadata": {},
     "output_type": "execute_result"
    }
   ],
   "source": [
    "significant_difference = 0\n",
    "for movie in df.columns[:400]:\n",
    "    movies_social = df[df['Movies are best enjoyed alone (1: Yes; 0: No; -1: Did not respond)'] == 0][movie]\n",
    "    movies_alone = df[df['Movies are best enjoyed alone (1: Yes; 0: No; -1: Did not respond)'] == 1][movie]\n",
    "    # Welch's test to find if there is the statistically significant difference\n",
    "    t, p = stats.ttest_ind(movies_social.dropna(), movies_alone.dropna(), equal_var =False)\n",
    "    if p < 0.005:\n",
    "        print(movie)\n",
    "        significant_difference += 1\n",
    "proportion = significant_difference / 400 \n",
    "significant_difference, proportion"
   ]
  },
  {
   "cell_type": "markdown",
   "id": "cc618c81-c5d6-413c-acf3-643e2907107a",
   "metadata": {},
   "source": [
    "### 9.Is the ratings distribution of ‘Home Alone (1990)’ different than that of ‘Finding Nemo (2003)’?"
   ]
  },
  {
   "cell_type": "code",
   "execution_count": 233,
   "id": "1afd1772-e0a3-44b8-89da-575a29b1276a",
   "metadata": {},
   "outputs": [
    {
     "data": {
      "text/plain": [
       "(-6.494570458011648, 1.0891130124203821e-10)"
      ]
     },
     "execution_count": 233,
     "metadata": {},
     "output_type": "execute_result"
    }
   ],
   "source": [
    "movies_homeAlone = df['Home Alone (1990)'].dropna()\n",
    "movies_findingNemo = df['Finding Nemo (2003)'].dropna()\n",
    "t, p = stats.ttest_ind(movies_homeAlone.dropna(), movies_findingNemo.dropna(), equal_var =False)\n",
    "t, p"
   ]
  },
  {
   "cell_type": "code",
   "execution_count": 231,
   "id": "cd34754d-e890-46ab-b187-a53f14ecf47b",
   "metadata": {},
   "outputs": [
    {
     "data": {
      "text/plain": [
       "Text(0, 0.5, 'Number of Ratings')"
      ]
     },
     "execution_count": 231,
     "metadata": {},
     "output_type": "execute_result"
    },
    {
     "data": {
      "image/png": "[encoded data removed]",
      "text/plain": [
       "<Figure size 640x480 with 1 Axes>"
      ]
     },
     "metadata": {},
     "output_type": "display_data"
    }
   ],
   "source": [
    "plt.hist(movies_homeAlone, color = 'blue', edgecolor = 'black', bins = int(180/5))\n",
    "plt.title('Histogram of Home Alone(1990)')\n",
    "plt.xlabel('Ratings')\n",
    "plt.ylabel('Number of Ratings')"
   ]
  },
  {
   "cell_type": "code",
   "execution_count": 422,
   "id": "e3a20edb-b2d6-4f3b-9732-0615c9130478",
   "metadata": {},
   "outputs": [
    {
     "data": {
      "text/plain": [
       "Text(0, 0.5, 'Number of Ratings')"
      ]
     },
     "execution_count": 422,
     "metadata": {},
     "output_type": "execute_result"
    },
    {
     "data": {
      "image/png": "[encoded data removed]",
      "text/plain": [
       "<Figure size 640x480 with 1 Axes>"
      ]
     },
     "metadata": {},
     "output_type": "display_data"
    }
   ],
   "source": [
    "plt.hist(movies_findingNemo, color = 'blue', edgecolor = 'black', bins = int(180/5))\n",
    "plt.title('Histogram of Finding Nemo (2003)')\n",
    "plt.xlabel('Ratings')\n",
    "plt.ylabel('Number of Ratings')"
   ]
  },
  {
   "cell_type": "code",
   "execution_count": 428,
   "id": "be07a6be-f421-4536-bf83-9f8056a0f47d",
   "metadata": {},
   "outputs": [],
   "source": [
    "home_alone = df[['Home Alone (1990)']].dropna()\n",
    "finding_nemo = df[['Finding Nemo (2003)']].dropna()\n",
    "\n",
    "from scipy.stats import ks_2samp\n",
    "import matplotlib.pyplot as plt\n",
    "\n",
    "home_alone = home_alone[~np.isnan(home_alone)]\n",
    "finding_nemo = finding_nemo[~np.isnan(finding_nemo)]\n",
    "home_alone = np.array(home_alone, dtype=float)\n",
    "finding_nemo = np.array(finding_nemo, dtype=float)\n",
    "\n",
    "# Assuming ratings_home_alone and ratings_finding_nemo are your data arrays\n",
    "ks_statistic, p_value = ks_2samp(home_alone, finding_nemo)"
   ]
  },
  {
   "cell_type": "code",
   "execution_count": 429,
   "id": "a0c4706d-94ec-4fcc-8221-071340f2c06a",
   "metadata": {},
   "outputs": [
    {
     "data": {
      "image/png": "[encoded data removed]",
      "text/plain": [
       "<Figure size 640x480 with 1 Axes>"
      ]
     },
     "metadata": {},
     "output_type": "display_data"
    },
    {
     "name": "stdout",
     "output_type": "stream",
     "text": [
      "KS Statistic: 0.15269080020897632\n",
      "P-value: 6.379397182836346e-10\n"
     ]
    }
   ],
   "source": [
    "# Visual Comparison\n",
    "plt.hist(home_alone, alpha=0.5, label='Home Alone (1990)')\n",
    "plt.hist(finding_nemo, alpha=0.5, label='Finding Nemo (2003)')\n",
    "plt.legend(loc='upper right')\n",
    "plt.title('Ratings Distribution Comparison')\n",
    "plt.xlabel('Rating')\n",
    "plt.ylabel('Frequency')\n",
    "plt.show()\n",
    "\n",
    "# Output the KS test results\n",
    "print('KS Statistic:', ks_statistic)\n",
    "print('P-value:', p_value)"
   ]
  },
  {
   "cell_type": "markdown",
   "id": "5b54f893-2923-4fd7-9b47-964b79065bf5",
   "metadata": {},
   "source": [
    "### 10. There are ratings on movies from several franchises ([‘Star Wars’, ‘Harry Potter’, ‘The Matrix’, ‘Indiana Jones’, ‘Jurassic Park’, ‘Pirates of the Caribbean’, ‘Toy Story’, ‘Batman’]) in this dataset. How many of these are of inconsistent quality, as experienced by viewers? [Hint: You can use the keywords in quotation marks featured in this question to identify the movies that are part of each franchise]\n"
   ]
  },
  {
   "cell_type": "code",
   "execution_count": 394,
   "id": "1cbda679-27e4-466a-8ac7-3fd749d3d059",
   "metadata": {},
   "outputs": [
    {
     "name": "stdout",
     "output_type": "stream",
     "text": [
      "The standard deviation for Star Wars 0.2804192235674831\n",
      "\n",
      "The standard deviation for Harry Potter 0.022214004606203052\n",
      "\n",
      "The standard deviation for The Matrix 0.18768231174087024\n",
      "\n",
      "The standard deviation for Indiana Jones 0.1552133770990197\n",
      "\n",
      "The standard deviation for Jurassic Park 0.14868262907220497\n",
      "\n",
      "The standard deviation for Pirates of the Caribbean 0.09025196095240534\n",
      "\n",
      "The standard deviation for Toy Story 0.06399197424572903\n",
      "\n",
      "The standard deviation for Batman 0.36876536653194386\n",
      "\n"
     ]
    }
   ],
   "source": [
    "movies_list = ['Star Wars', 'Harry Potter', 'The Matrix', 'Indiana Jones', \n",
    "               'Jurassic Park', 'Pirates of the Caribbean', 'Toy Story', 'Batman']\n",
    "movie_dict = {}\n",
    "\n",
    "for name in movies_list:\n",
    "    data = df.filter(regex=name)\n",
    "    mean = []\n",
    "    for group in data.columns:\n",
    "        mean.append(data[group].mean())\n",
    "        #print(group, data[group].mean())\n",
    "    print(\"The standard deviation for\", name, np.std(mean))\n",
    "    movie_dict[name] = np.std(mean)\n",
    "    print()"
   ]
  },
  {
   "cell_type": "code",
   "execution_count": 412,
   "id": "35beb0a7-704c-4f55-b76d-660f0321a902",
   "metadata": {},
   "outputs": [
    {
     "data": {
      "text/plain": [
       "0.16465260597698242"
      ]
     },
     "execution_count": 412,
     "metadata": {},
     "output_type": "execute_result"
    }
   ],
   "source": [
    "mean_std = np.mean(list(movie_dict.values()))\n",
    "mean_std"
   ]
  },
  {
   "cell_type": "code",
   "execution_count": 414,
   "id": "99a1cc99-e867-4c66-a6b1-070c422c57bc",
   "metadata": {},
   "outputs": [
    {
     "data": {
      "text/plain": [
       "Text(0.5, 1.0, 'Histogram of Standard Deviation of Franchises')"
      ]
     },
     "execution_count": 414,
     "metadata": {},
     "output_type": "execute_result"
    },
    {
     "data": {
      "image/png": "[encoded data removed]",
      "text/plain": [
       "<Figure size 1500x800 with 1 Axes>"
      ]
     },
     "metadata": {},
     "output_type": "display_data"
    }
   ],
   "source": [
    "plt.figure(figsize = (15, 8))\n",
    "plt.axhline(mean_std, color = 'r')\n",
    "plt.bar(movie_dict.keys(), movie_dict.values(), width = 0.7)\n",
    "plt.title('Histogram of Standard Deviation of Franchises')"
   ]
  },
  {
   "cell_type": "code",
   "execution_count": null,
   "id": "a8d64df1-1edd-47c0-8d3a-9d8eb8a137b2",
   "metadata": {},
   "outputs": [],
   "source": []
  },
  {
   "cell_type": "markdown",
   "id": "69f79894-aeaf-4ba7-8436-5d4b2cd384f3",
   "metadata": {},
   "source": [
    "### 11.Extra Credit: Tell us something interesting and true (supported by a significance test of some kind) about the movies in this dataset that is not already covered by the questions above [for 5% of the grade score]"
   ]
  },
  {
   "cell_type": "markdown",
   "id": "ae13ef89-ddae-49b6-bf42-314e50ce2d30",
   "metadata": {},
   "source": [
    "### What portion of movies that if the audience feel like the things on the screen are happening to me, the feeling for more and less, there is a difference in average ratings between the two groups."
   ]
  },
  {
   "cell_type": "code",
   "execution_count": 379,
   "id": "f0b52de8-bcb5-4f76-bac0-2c253164f4f6",
   "metadata": {},
   "outputs": [],
   "source": [
    "median_split = df['When watching a movie I feel like the things on the screen are happening to me'].median()"
   ]
  },
  {
   "cell_type": "code",
   "execution_count": 417,
   "id": "6217f75d-b5f4-43f5-9ba8-ccebdf808587",
   "metadata": {},
   "outputs": [
    {
     "name": "stdout",
     "output_type": "stream",
     "text": [
      "The Bridges of Madison County (1995)\n",
      "Batman & Robin (1997)\n",
      "Shrek 2 (2004)\n",
      "Barb Wire (1996)\n",
      "Tropic of Cancer (1970)\n",
      "Ghostbusters (2016)\n",
      "Cheaper by the Dozen (2003)\n",
      "The Vow (2012)\n",
      "Batman (1989)\n",
      "Tarzan (1999)\n",
      "Baby Geniuses (1999)\n",
      "Pirates of the Caribbean: At World's End (2007)\n",
      "Uptown Girls (2003)\n",
      "Austin Powers: The Spy Who Shagged Me (1999)\n",
      "Air Force One (1997)\n",
      "Daredevil (2003)\n",
      "Bruce Almighty (2003)\n",
      "Bad Teacher (2011)\n",
      "Cable Guy (1996)\n",
      "Ice Age (2002)\n",
      "There's Something About Mary (1998)\n",
      "Zoolander (2001)\n",
      "Rocky (1976)\n",
      "Home Alone (1990)\n",
      "The Hulk (2003)\n",
      "Titanic (1997)\n",
      "Charlie's Angels (2000)\n",
      "American Psycho (2000)\n",
      "Bend it Like Beckham (2002)\n",
      "E.T. The Extra-Terrestrial (1982)\n",
      "Aladdin (1992)\n",
      "One Flew Over the Cuckoo's Nest (1975)\n",
      "My Best Friend's Wedding (1997)\n",
      "Jurassic Park (1993)\n",
      "Inception (2010)\n",
      "Fatal Attraction (1987)\n"
     ]
    },
    {
     "data": {
      "text/plain": [
       "(0.09, 36)"
      ]
     },
     "execution_count": 417,
     "metadata": {},
     "output_type": "execute_result"
    }
   ],
   "source": [
    "significant_difference = 0\n",
    "for movie in df.columns[:400]:\n",
    "    movies_more = df[df['When watching a movie I feel like the things on the screen are happening to me'] > median_split][movie]\n",
    "    movies_alone = df[df['When watching a movie I feel like the things on the screen are happening to me'] < median_split][movie]\n",
    "    # Welch's test to find if there is the statistically significant difference\n",
    "    t, p = stats.ttest_ind(movies_more.dropna(), movies_alone.dropna(), equal_var =False)\n",
    "    if p < 0.005:\n",
    "        significant_difference += 1\n",
    "        print(movie)\n",
    "# There are 9% of movies in 400 that if you feel like the things on the screen are happening to you, they will rate higher\n",
    "# than others. \n",
    "proportion = significant_difference / 400 \n",
    "proportion, significant_difference"
   ]
  },
  {
   "cell_type": "code",
   "execution_count": null,
   "id": "dcb8b21c-cafd-4335-a0ed-adab07698aac",
   "metadata": {},
   "outputs": [],
   "source": []
  },
  {
   "cell_type": "code",
   "execution_count": null,
   "id": "72ec9ee7-5a09-415b-90aa-cdccd2e7d33d",
   "metadata": {},
   "outputs": [],
   "source": []
  }
 ],
 "metadata": {
  "kernelspec": {
   "display_name": "Python 3 (ipykernel)",
   "language": "python",
   "name": "python3"
  },
  "language_info": {
   "codemirror_mode": {
    "name": "ipython",
    "version": 3
   },
   "file_extension": ".py",
   "mimetype": "text/x-python",
   "name": "python",
   "nbconvert_exporter": "python",
   "pygments_lexer": "ipython3",
   "version": "3.10.9"
  }
 },
 "nbformat": 4,
 "nbformat_minor": 5
}
